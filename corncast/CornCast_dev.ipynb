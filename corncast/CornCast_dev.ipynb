{
 "cells": [
  {
   "cell_type": "code",
   "execution_count": null,
   "id": "3c044be6-095d-4068-aecd-d49158bc8252",
   "metadata": {},
   "outputs": [],
   "source": [
    "from corncast import Location, corn_forecast"
   ]
  },
  {
   "cell_type": "code",
   "execution_count": null,
   "id": "05773666-5914-4fec-b9b6-b91c1f0f8154",
   "metadata": {},
   "outputs": [],
   "source": [
    "rose = Location(\"Mt. Rose Summit\", 39.3144, -119.9173)\n",
    "berk = Location(\"Berkeley\", 37.8715, -122.27)"
   ]
  },
  {
   "cell_type": "code",
   "execution_count": null,
   "id": "b8520bd3",
   "metadata": {},
   "outputs": [],
   "source": [
    "corn_forecast(rose)"
   ]
  }
 ],
 "metadata": {
  "kernelspec": {
   "display_name": "Python 3 (ipykernel)",
   "language": "python",
   "name": "python3"
  },
  "language_info": {
   "codemirror_mode": {
    "name": "ipython",
    "version": 3
   },
   "file_extension": ".py",
   "mimetype": "text/x-python",
   "name": "python",
   "nbconvert_exporter": "python",
   "pygments_lexer": "ipython3",
   "version": "3.10.12"
  }
 },
 "nbformat": 4,
 "nbformat_minor": 5
}
