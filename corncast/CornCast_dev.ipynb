{
 "cells": [
  {
   "cell_type": "code",
   "execution_count": 1,
   "id": "3c044be6-095d-4068-aecd-d49158bc8252",
   "metadata": {},
   "outputs": [],
   "source": [
    "import pandas as pd\n",
    "import geojson\n",
    "from datetime import datetime, timedelta\n",
    "\n",
    "from corncast import Location, corn_forecast, make_obs_df, make_forecast_df"
   ]
  },
  {
   "cell_type": "code",
   "execution_count": 2,
   "id": "05773666-5914-4fec-b9b6-b91c1f0f8154",
   "metadata": {},
   "outputs": [],
   "source": [
    "locs = [Location(\"Mt. Rose Summit\", 39.3144, -119.9173),\n",
    "        Location(\"Berkeley\", 37.8715, -122.27),\n",
    "        Location(\"Mt. Shasta - Bunny Flat\", 41.353, -122.234)]\n",
    "locations = {l.name : l for l in locs}"
   ]
  },
  {
   "cell_type": "code",
   "execution_count": 3,
   "id": "04b9169b",
   "metadata": {},
   "outputs": [
    {
     "name": "stdout",
     "output_type": "stream",
     "text": [
      "Calling: /points/39.3144,-119.9173\n",
      "Calling: https://api.weather.gov/gridpoints/REV/40,97/stations\n",
      "Calling: /stations/SLIDE/observations?start=2023-11-28T20%3A58%3A11Z&end=2023-12-03T20%3A58%3A11Z\n"
     ]
    },
    {
     "name": "stderr",
     "output_type": "stream",
     "text": [
      "/home/smerdis/Dropbox/code/corncast/corncast/corncast.py:224: FutureWarning: The behavior of DataFrame concatenation with empty or all-NA entries is deprecated. In a future version, this will no longer exclude empty or all-NA columns when determining the result dtypes. To retain the old behavior, exclude the relevant entries before the concat operation.\n",
      "  obs_df_full = pd.concat(\n"
     ]
    },
    {
     "name": "stdout",
     "output_type": "stream",
     "text": [
      "Calling: /points/39.3144,-119.9173\n",
      "Calling: https://api.weather.gov/gridpoints/REV/40,97/forecast/hourly\n"
     ]
    }
   ],
   "source": [
    "(obs_df, comb_6h_df) = corn_forecast(rose)"
   ]
  },
  {
   "cell_type": "code",
   "execution_count": 4,
   "id": "2c6b7dc4",
   "metadata": {},
   "outputs": [
    {
     "data": {
      "text/html": [
       "<style type=\"text/css\">\n",
       "#T_dadd9_row0_col0, #T_dadd9_row0_col1, #T_dadd9_row0_col2, #T_dadd9_row0_col4, #T_dadd9_row6_col0, #T_dadd9_row6_col1, #T_dadd9_row6_col2, #T_dadd9_row6_col4, #T_dadd9_row7_col0, #T_dadd9_row7_col1, #T_dadd9_row7_col2, #T_dadd9_row7_col4, #T_dadd9_row9_col0, #T_dadd9_row9_col1, #T_dadd9_row9_col2, #T_dadd9_row9_col4 {\n",
       "  background-color: green;\n",
       "}\n",
       "#T_dadd9_row1_col0, #T_dadd9_row1_col1, #T_dadd9_row1_col2, #T_dadd9_row1_col4, #T_dadd9_row2_col0, #T_dadd9_row2_col1, #T_dadd9_row2_col2, #T_dadd9_row2_col4, #T_dadd9_row3_col0, #T_dadd9_row3_col1, #T_dadd9_row3_col2, #T_dadd9_row3_col4, #T_dadd9_row4_col0, #T_dadd9_row4_col1, #T_dadd9_row4_col2, #T_dadd9_row4_col4, #T_dadd9_row5_col0, #T_dadd9_row5_col1, #T_dadd9_row5_col2, #T_dadd9_row5_col4, #T_dadd9_row8_col0, #T_dadd9_row8_col1, #T_dadd9_row8_col2, #T_dadd9_row8_col4, #T_dadd9_row10_col0, #T_dadd9_row10_col1, #T_dadd9_row10_col2, #T_dadd9_row10_col4, #T_dadd9_row11_col0, #T_dadd9_row11_col1, #T_dadd9_row11_col2, #T_dadd9_row11_col4, #T_dadd9_row12_col0, #T_dadd9_row12_col1, #T_dadd9_row12_col2, #T_dadd9_row12_col4 {\n",
       "  background-color: white;\n",
       "}\n",
       "</style>\n",
       "<table id=\"T_dadd9\">\n",
       "  <thead>\n",
       "    <tr>\n",
       "      <th class=\"blank level0\" >&nbsp;</th>\n",
       "      <th id=\"T_dadd9_level0_col0\" class=\"col_heading level0 col0\" >date</th>\n",
       "      <th id=\"T_dadd9_level0_col1\" class=\"col_heading level0 col1\" >cycle</th>\n",
       "      <th id=\"T_dadd9_level0_col2\" class=\"col_heading level0 col2\" >obs_precip</th>\n",
       "      <th id=\"T_dadd9_level0_col4\" class=\"col_heading level0 col4\" >prob_precip</th>\n",
       "    </tr>\n",
       "  </thead>\n",
       "  <tbody>\n",
       "    <tr>\n",
       "      <th id=\"T_dadd9_level0_row0\" class=\"row_heading level0 row0\" >0</th>\n",
       "      <td id=\"T_dadd9_row0_col0\" class=\"data row0 col0\" >11-28</td>\n",
       "      <td id=\"T_dadd9_row0_col1\" class=\"data row0 col1\" >True</td>\n",
       "      <td id=\"T_dadd9_row0_col2\" class=\"data row0 col2\" >0.0</td>\n",
       "      <td id=\"T_dadd9_row0_col4\" class=\"data row0 col4\" >nan</td>\n",
       "    </tr>\n",
       "    <tr>\n",
       "      <th id=\"T_dadd9_level0_row1\" class=\"row_heading level0 row1\" >1</th>\n",
       "      <td id=\"T_dadd9_row1_col0\" class=\"data row1 col0\" >11-29</td>\n",
       "      <td id=\"T_dadd9_row1_col1\" class=\"data row1 col1\" >False</td>\n",
       "      <td id=\"T_dadd9_row1_col2\" class=\"data row1 col2\" >0.0</td>\n",
       "      <td id=\"T_dadd9_row1_col4\" class=\"data row1 col4\" >nan</td>\n",
       "    </tr>\n",
       "    <tr>\n",
       "      <th id=\"T_dadd9_level0_row2\" class=\"row_heading level0 row2\" >2</th>\n",
       "      <td id=\"T_dadd9_row2_col0\" class=\"data row2 col0\" >11-30</td>\n",
       "      <td id=\"T_dadd9_row2_col1\" class=\"data row2 col1\" >False</td>\n",
       "      <td id=\"T_dadd9_row2_col2\" class=\"data row2 col2\" >0.0</td>\n",
       "      <td id=\"T_dadd9_row2_col4\" class=\"data row2 col4\" >nan</td>\n",
       "    </tr>\n",
       "    <tr>\n",
       "      <th id=\"T_dadd9_level0_row3\" class=\"row_heading level0 row3\" >3</th>\n",
       "      <td id=\"T_dadd9_row3_col0\" class=\"data row3 col0\" >12-01</td>\n",
       "      <td id=\"T_dadd9_row3_col1\" class=\"data row3 col1\" >False</td>\n",
       "      <td id=\"T_dadd9_row3_col2\" class=\"data row3 col2\" >0.0</td>\n",
       "      <td id=\"T_dadd9_row3_col4\" class=\"data row3 col4\" >nan</td>\n",
       "    </tr>\n",
       "    <tr>\n",
       "      <th id=\"T_dadd9_level0_row4\" class=\"row_heading level0 row4\" >4</th>\n",
       "      <td id=\"T_dadd9_row4_col0\" class=\"data row4 col0\" >12-02</td>\n",
       "      <td id=\"T_dadd9_row4_col1\" class=\"data row4 col1\" >False</td>\n",
       "      <td id=\"T_dadd9_row4_col2\" class=\"data row4 col2\" >0.0</td>\n",
       "      <td id=\"T_dadd9_row4_col4\" class=\"data row4 col4\" >nan</td>\n",
       "    </tr>\n",
       "    <tr>\n",
       "      <th id=\"T_dadd9_level0_row5\" class=\"row_heading level0 row5\" >5</th>\n",
       "      <td id=\"T_dadd9_row5_col0\" class=\"data row5 col0\" >12-03</td>\n",
       "      <td id=\"T_dadd9_row5_col1\" class=\"data row5 col1\" >False</td>\n",
       "      <td id=\"T_dadd9_row5_col2\" class=\"data row5 col2\" >0.0</td>\n",
       "      <td id=\"T_dadd9_row5_col4\" class=\"data row5 col4\" >nan</td>\n",
       "    </tr>\n",
       "    <tr>\n",
       "      <th id=\"T_dadd9_level0_row6\" class=\"row_heading level0 row6\" >6</th>\n",
       "      <td id=\"T_dadd9_row6_col0\" class=\"data row6 col0\" >12-04</td>\n",
       "      <td id=\"T_dadd9_row6_col1\" class=\"data row6 col1\" >True</td>\n",
       "      <td id=\"T_dadd9_row6_col2\" class=\"data row6 col2\" >nan</td>\n",
       "      <td id=\"T_dadd9_row6_col4\" class=\"data row6 col4\" >14.000000</td>\n",
       "    </tr>\n",
       "    <tr>\n",
       "      <th id=\"T_dadd9_level0_row7\" class=\"row_heading level0 row7\" >7</th>\n",
       "      <td id=\"T_dadd9_row7_col0\" class=\"data row7 col0\" >12-05</td>\n",
       "      <td id=\"T_dadd9_row7_col1\" class=\"data row7 col1\" >True</td>\n",
       "      <td id=\"T_dadd9_row7_col2\" class=\"data row7 col2\" >nan</td>\n",
       "      <td id=\"T_dadd9_row7_col4\" class=\"data row7 col4\" >3.000000</td>\n",
       "    </tr>\n",
       "    <tr>\n",
       "      <th id=\"T_dadd9_level0_row8\" class=\"row_heading level0 row8\" >8</th>\n",
       "      <td id=\"T_dadd9_row8_col0\" class=\"data row8 col0\" >12-06</td>\n",
       "      <td id=\"T_dadd9_row8_col1\" class=\"data row8 col1\" >False</td>\n",
       "      <td id=\"T_dadd9_row8_col2\" class=\"data row8 col2\" >nan</td>\n",
       "      <td id=\"T_dadd9_row8_col4\" class=\"data row8 col4\" >57.000000</td>\n",
       "    </tr>\n",
       "    <tr>\n",
       "      <th id=\"T_dadd9_level0_row9\" class=\"row_heading level0 row9\" >9</th>\n",
       "      <td id=\"T_dadd9_row9_col0\" class=\"data row9 col0\" >12-07</td>\n",
       "      <td id=\"T_dadd9_row9_col1\" class=\"data row9 col1\" >True</td>\n",
       "      <td id=\"T_dadd9_row9_col2\" class=\"data row9 col2\" >nan</td>\n",
       "      <td id=\"T_dadd9_row9_col4\" class=\"data row9 col4\" >64.000000</td>\n",
       "    </tr>\n",
       "    <tr>\n",
       "      <th id=\"T_dadd9_level0_row10\" class=\"row_heading level0 row10\" >10</th>\n",
       "      <td id=\"T_dadd9_row10_col0\" class=\"data row10 col0\" >12-08</td>\n",
       "      <td id=\"T_dadd9_row10_col1\" class=\"data row10 col1\" >False</td>\n",
       "      <td id=\"T_dadd9_row10_col2\" class=\"data row10 col2\" >nan</td>\n",
       "      <td id=\"T_dadd9_row10_col4\" class=\"data row10 col4\" >55.000000</td>\n",
       "    </tr>\n",
       "    <tr>\n",
       "      <th id=\"T_dadd9_level0_row11\" class=\"row_heading level0 row11\" >11</th>\n",
       "      <td id=\"T_dadd9_row11_col0\" class=\"data row11 col0\" >12-09</td>\n",
       "      <td id=\"T_dadd9_row11_col1\" class=\"data row11 col1\" >False</td>\n",
       "      <td id=\"T_dadd9_row11_col2\" class=\"data row11 col2\" >nan</td>\n",
       "      <td id=\"T_dadd9_row11_col4\" class=\"data row11 col4\" >14.000000</td>\n",
       "    </tr>\n",
       "    <tr>\n",
       "      <th id=\"T_dadd9_level0_row12\" class=\"row_heading level0 row12\" >12</th>\n",
       "      <td id=\"T_dadd9_row12_col0\" class=\"data row12 col0\" >12-10</td>\n",
       "      <td id=\"T_dadd9_row12_col1\" class=\"data row12 col1\" >False</td>\n",
       "      <td id=\"T_dadd9_row12_col2\" class=\"data row12 col2\" >nan</td>\n",
       "      <td id=\"T_dadd9_row12_col4\" class=\"data row12 col4\" >18.000000</td>\n",
       "    </tr>\n",
       "  </tbody>\n",
       "</table>\n"
      ],
      "text/plain": [
       "<pandas.io.formats.style.Styler at 0x7f3d20c06d40>"
      ]
     },
     "execution_count": 4,
     "metadata": {},
     "output_type": "execute_result"
    }
   ],
   "source": [
    "def highlight(row):\n",
    "    if row['cycle'] and row['obs_precip_iszero']:\n",
    "        return ['background-color: green'] * len(row)\n",
    "    else:\n",
    "        return ['background-color: white'] * len(row)\n",
    "\n",
    "fmts = {'date':lambda x: f\"{x:%m-%d}\",\n",
    "        'obs_precip': lambda x: f\"{x:.1f}\"}\n",
    "out = comb_6h_df.style.apply(highlight, axis=1)\n",
    "out.format(fmts).hide(subset=['obs_precip_iszero'], axis=1)"
   ]
  },
  {
   "cell_type": "code",
   "execution_count": 5,
   "id": "cd18a7b7",
   "metadata": {},
   "outputs": [
    {
     "name": "stdout",
     "output_type": "stream",
     "text": [
      "Calling: /points/39.3144,-119.9173\n",
      "Calling: https://api.weather.gov/gridpoints/REV/40,97/stations\n",
      "Calling: /stations/SLIDE/observations?start=2023-11-28T20%3A58%3A14Z&end=2023-12-03T20%3A58%3A14Z\n"
     ]
    },
    {
     "name": "stderr",
     "output_type": "stream",
     "text": [
      "/tmp/ipykernel_19442/1239433699.py:7: FutureWarning: The behavior of DataFrame concatenation with empty or all-NA entries is deprecated. In a future version, this will no longer exclude empty or all-NA columns when determining the result dtypes. To retain the old behavior, exclude the relevant entries before the concat operation.\n",
      "  foo = pd.concat([pd.json_normalize(o) for o in rose.get_obs(start, end)], ignore_index=True)\n"
     ]
    }
   ],
   "source": [
    "# set up some variables\n",
    "now = datetime.now()\n",
    "obs_period = timedelta(days=5)\n",
    "start = now-obs_period\n",
    "end = now\n",
    "tcol = 'tempF'\n",
    "foo = pd.concat([pd.json_normalize(o) for o in rose.get_obs(start, end)], ignore_index=True)"
   ]
  },
  {
   "cell_type": "code",
   "execution_count": 6,
   "id": "035fa592",
   "metadata": {},
   "outputs": [
    {
     "name": "stdout",
     "output_type": "stream",
     "text": [
      "Dash app running on http://127.0.0.1:8050/\n"
     ]
    }
   ],
   "source": [
    "from dash import Dash, html, dcc, callback, Output, Input\n",
    "import plotly.express as px\n",
    "#import pandas as pd\n",
    "\n",
    "app = Dash(__name__)\n",
    "\n",
    "app.layout = html.Div([\n",
    "    html.H1(children='Corn Forecast', style={'textAlign':'center'}),\n",
    "    dcc.Dropdown(list(locations), next(iter(locations)), id='loc-selection'),\n",
    "    dcc.Graph(id='obs-temp'),\n",
    "    dcc.Graph(id='fcst-temp')\n",
    "])\n",
    "\n",
    "@callback(\n",
    "    Output('obs-temp', 'figure'),\n",
    "    Input('loc-selection', 'value')\n",
    ")\n",
    "def update_obs(value, tcol='tempF'):\n",
    "    now = datetime.now()\n",
    "    obs_period = timedelta(days=5)\n",
    "    start = now-obs_period\n",
    "    end = now\n",
    "    obs_df = make_obs_df(locations[value], start, end)\n",
    "    hour_means = obs_df.groupby([\"datehour\"])[tcol].mean().reset_index()\n",
    "    return px.line(hour_means, x='datehour', y=tcol)\n",
    "\n",
    "@callback(\n",
    "    Output('fcst-temp', 'figure'),\n",
    "    Input('loc-selection', 'value')\n",
    ")\n",
    "def update_fcst(value, tcol='tempF'):\n",
    "    fcst_df = make_forecast_df(locations[value])\n",
    "    return px.line(fcst_df, x='startTime', y=tcol)\n",
    "\n",
    "if __name__ == '__main__':\n",
    "    app.run(debug=True, jupyter_mode=\"external\")\n"
   ]
  }
 ],
 "metadata": {
  "kernelspec": {
   "display_name": "Python 3 (ipykernel)",
   "language": "python",
   "name": "python3"
  },
  "language_info": {
   "codemirror_mode": {
    "name": "ipython",
    "version": 3
   },
   "file_extension": ".py",
   "mimetype": "text/x-python",
   "name": "python",
   "nbconvert_exporter": "python",
   "pygments_lexer": "ipython3",
   "version": "3.10.12"
  }
 },
 "nbformat": 4,
 "nbformat_minor": 5
}
