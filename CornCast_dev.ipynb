{
 "cells": [
  {
   "cell_type": "code",
   "execution_count": null,
   "id": "3c044be6-095d-4068-aecd-d49158bc8252",
   "metadata": {},
   "outputs": [],
   "source": [
    "import numpy as np\n",
    "import pandas as pd\n",
    "\n",
    "from datetime import timedelta\n",
    "\n",
    "from corncast import Location\n",
    "\n",
    "from noaa_sdk import NOAA"
   ]
  },
  {
   "cell_type": "code",
   "execution_count": null,
   "id": "67b3a5c9-0d95-4f1d-8c8e-6b466e5706c8",
   "metadata": {},
   "outputs": [],
   "source": [
    "n = NOAA(user_agent=\"CornCast testing <arjmukerji@gmail.com>\", show_uri=True)"
   ]
  },
  {
   "cell_type": "code",
   "execution_count": null,
   "id": "05773666-5914-4fec-b9b6-b91c1f0f8154",
   "metadata": {},
   "outputs": [],
   "source": [
    "rose = Location(\"Mt. Rose Summit\", 39.3144, -119.9173)\n",
    "berk = Location(\"Berkeley\", 37.8715, -122.27)"
   ]
  },
  {
   "cell_type": "code",
   "execution_count": null,
   "id": "047eb661-76db-4839-8cc9-7c50b193cd77",
   "metadata": {},
   "outputs": [],
   "source": [
    "now = pd.Timestamp.now()\n",
    "obs_period = timedelta(hours=12)\n",
    "start = now-obs_period\n",
    "end = now\n",
    "print(f\"It is now {now.isoformat()}, we will fetch observations for the past {obs_period}, beginning at {start}.\")"
   ]
  },
  {
   "cell_type": "code",
   "execution_count": null,
   "id": "434ae5e3-846c-43b3-9c48-9d667506cb12",
   "metadata": {},
   "outputs": [],
   "source": [
    "for o in berk.get_obs(n, start, end):\n",
    "    print(o)"
   ]
  }
 ],
 "metadata": {
  "kernelspec": {
   "display_name": "Python 3 (ipykernel)",
   "language": "python",
   "name": "python3"
  },
  "language_info": {
   "codemirror_mode": {
    "name": "ipython",
    "version": 3
   },
   "file_extension": ".py",
   "mimetype": "text/x-python",
   "name": "python",
   "nbconvert_exporter": "python",
   "pygments_lexer": "ipython3",
   "version": "3.10.12"
  }
 },
 "nbformat": 4,
 "nbformat_minor": 5
}
