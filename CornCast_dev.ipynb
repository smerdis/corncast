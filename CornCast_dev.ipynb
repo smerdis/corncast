{
 "cells": [
  {
   "cell_type": "code",
   "execution_count": 1,
   "id": "3c044be6-095d-4068-aecd-d49158bc8252",
   "metadata": {},
   "outputs": [],
   "source": [
    "import numpy as np\n",
    "import pandas as pd\n",
    "\n",
    "from datetime import timedelta\n",
    "\n",
    "from corncast import Location, reduce_obs, calc_max_temp, calc_min_temp\n",
    "\n",
    "from noaa_sdk import NOAA"
   ]
  },
  {
   "cell_type": "code",
   "execution_count": 2,
   "id": "67b3a5c9-0d95-4f1d-8c8e-6b466e5706c8",
   "metadata": {},
   "outputs": [],
   "source": [
    "n = NOAA(user_agent=\"CornCast testing <arjmukerji@gmail.com>\", show_uri=True)"
   ]
  },
  {
   "cell_type": "code",
   "execution_count": 3,
   "id": "05773666-5914-4fec-b9b6-b91c1f0f8154",
   "metadata": {},
   "outputs": [],
   "source": [
    "rose = Location(\"Mt. Rose Summit\", 39.3144, -119.9173)\n",
    "berk = Location(\"Berkeley\", 37.8715, -122.27)"
   ]
  },
  {
   "cell_type": "code",
   "execution_count": 4,
   "id": "047eb661-76db-4839-8cc9-7c50b193cd77",
   "metadata": {},
   "outputs": [
    {
     "name": "stdout",
     "output_type": "stream",
     "text": [
      "It is now 2023-11-18 20:21:43, we will fetch observations for the past 1 day, 0:00:00, beginning at 2023-11-17 20:21:43.\n"
     ]
    }
   ],
   "source": [
    "now = pd.Timestamp.now()\n",
    "obs_period = timedelta(hours=24)\n",
    "start = now-obs_period\n",
    "end = now\n",
    "print(f\"It is now {now:%Y-%m-%d %H:%M:%S}, we will fetch observations for the past {obs_period}, beginning at {start:%Y-%m-%d %H:%M:%S}.\")"
   ]
  },
  {
   "cell_type": "code",
   "execution_count": 5,
   "id": "434ae5e3-846c-43b3-9c48-9d667506cb12",
   "metadata": {},
   "outputs": [
    {
     "name": "stdout",
     "output_type": "stream",
     "text": [
      "Calling: /points/39.3144,-119.9173\n",
      "Calling: https://api.weather.gov/gridpoints/REV/40,97/stations\n",
      "Calling: /stations/SLIDE/observations?start=2023-11-17T20%3A21%3A43Z&end=2023-11-18T20%3A21%3A43Z\n"
     ]
    },
    {
     "data": {
      "text/plain": [
       "Index(['station', 'timestamp', 'temperature.unitCode', 'temperature.value',\n",
       "       'temperature.qualityControl', 'dewpoint.unitCode', 'dewpoint.value',\n",
       "       'dewpoint.qualityControl', 'windDirection.unitCode',\n",
       "       'windDirection.value', 'windDirection.qualityControl',\n",
       "       'windSpeed.unitCode', 'windSpeed.value', 'windSpeed.qualityControl',\n",
       "       'windGust.unitCode', 'windGust.value', 'windGust.qualityControl',\n",
       "       'maxTemperatureLast24Hours.unitCode', 'maxTemperatureLast24Hours.value',\n",
       "       'minTemperatureLast24Hours.unitCode', 'minTemperatureLast24Hours.value',\n",
       "       'precipitationLast3Hours.unitCode', 'precipitationLast3Hours.value',\n",
       "       'precipitationLast3Hours.qualityControl', 'windChill.unitCode',\n",
       "       'windChill.value', 'windChill.qualityControl'],\n",
       "      dtype='object')"
      ]
     },
     "execution_count": 5,
     "metadata": {},
     "output_type": "execute_result"
    }
   ],
   "source": [
    "obs_df_full = pd.concat([pd.json_normalize(o) for o in rose.get_obs(n, start, end)], ignore_index=True)\n",
    "obs_df_reduced = reduce_obs(obs_df_full)\n",
    "obs_df_reduced.columns"
   ]
  },
  {
   "cell_type": "code",
   "execution_count": 6,
   "id": "cbf4f2db",
   "metadata": {},
   "outputs": [
    {
     "data": {
      "text/plain": [
       "nan"
      ]
     },
     "execution_count": 6,
     "metadata": {},
     "output_type": "execute_result"
    }
   ],
   "source": [
    "calc_max_temp(obs_df_reduced)"
   ]
  },
  {
   "cell_type": "code",
   "execution_count": 7,
   "id": "7f18826e",
   "metadata": {},
   "outputs": [
    {
     "data": {
      "text/plain": [
       "nan"
      ]
     },
     "execution_count": 7,
     "metadata": {},
     "output_type": "execute_result"
    }
   ],
   "source": [
    "calc_min_temp(obs_df_reduced)"
   ]
  },
  {
   "cell_type": "code",
   "execution_count": null,
   "id": "c4b7fdc8",
   "metadata": {},
   "outputs": [],
   "source": []
  }
 ],
 "metadata": {
  "kernelspec": {
   "display_name": "Python 3 (ipykernel)",
   "language": "python",
   "name": "python3"
  },
  "language_info": {
   "codemirror_mode": {
    "name": "ipython",
    "version": 3
   },
   "file_extension": ".py",
   "mimetype": "text/x-python",
   "name": "python",
   "nbconvert_exporter": "python",
   "pygments_lexer": "ipython3",
   "version": "3.10.12"
  }
 },
 "nbformat": 4,
 "nbformat_minor": 5
}
